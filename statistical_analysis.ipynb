{
 "cells": [
  {
   "cell_type": "code",
   "execution_count": null,
   "id": "b21b5225",
   "metadata": {},
   "outputs": [],
   "source": [
    "import pandas as pd\n",
    "import matplotlib.pyplot as plt\n",
    "import seaborn as sns\n",
    "import sqlite3\n",
    "import statsmodels.api as sm\n",
    "import re\n",
    "\n",
    "# Set up plotting style\n",
    "plt.style.use('seaborn-v0_8-whitegrid')\n",
    "sns.set_palette(\"tab10\")"
   ]
  },
  {
   "cell_type": "code",
   "execution_count": null,
   "id": "a9d2653b",
   "metadata": {},
   "outputs": [],
   "source": [
    "# Create a connection to the SQLite database\n",
    "conn = sqlite3.connect('data/plots.db')\n",
    "\n",
    "# Define the SQL query to get comprehensive dataset for analysis\n",
    "all_data_query = \"\"\"\n",
    "SELECT \n",
    "    p.doi,\n",
    "    p.figure_number,\n",
    "    s.sandstone_name,\n",
    "    dp.p_mpa,\n",
    "    dp.q_mpa\n",
    "FROM data_points dp\n",
    "JOIN sandstones s ON dp.sandstone_id = s.id\n",
    "JOIN plots p ON s.plot_id = p.id\n",
    "ORDER BY p.doi, s.sandstone_name, dp.p_mpa\n",
    "\"\"\""
   ]
  },
  {
   "cell_type": "code",
   "execution_count": null,
   "id": "e5eefe30",
   "metadata": {},
   "outputs": [],
   "source": [
    "# Convert the SQL query result into a DataFrame\n",
    "df_all_data = pd.read_sql_query(all_data_query, conn)\n",
    "\n",
    "# Display the DataFrame \n",
    "df_all_data"
   ]
  },
  {
   "cell_type": "code",
   "execution_count": null,
   "id": "6b94db3d",
   "metadata": {},
   "outputs": [],
   "source": [
    "# Filter for Rutter and Glover Figure 8 data\n",
    "rut_glov_fig8 = df_all_data[df_all_data['doi'] == '10.1016/j.jsg.2012.08.014']\n",
    "\n",
    "# Filter for friction data\n",
    "friction_data = rut_glov_fig8[rut_glov_fig8['sandstone_name'] == 'Porous sandstone friction data']\n",
    "\n",
    "# Remove Serpentinite data\n",
    "rut_glov_fig8 = rut_glov_fig8[(rut_glov_fig8['sandstone_name'] != 'Serpentinite (20%)') & (rut_glov_fig8['sandstone_name'] != 'Porous sandstone friction data')]"
   ]
  },
  {
   "cell_type": "code",
   "execution_count": null,
   "id": "b74b4fe7",
   "metadata": {},
   "outputs": [],
   "source": [
    "# Visualise the sandstone data\n",
    "plt.figure(figsize=(10, 6))\n",
    "sns.scatterplot(data=rut_glov_fig8, x='p_mpa', y='q_mpa', hue='sandstone_name')\n",
    "sns.regplot(data=rut_glov_fig8, x='p_mpa', y='q_mpa', scatter=False, \n",
    "            color='black', ci=None, label='Regression Line', \n",
    "            line_kws={'linewidth': 1.0, 'linestyle': '--'})\n",
    "plt.xlabel('P (MPa)', fontsize=10)\n",
    "plt.ylabel('Q (MPa)', fontsize=10)\n",
    "plt.xlim(0,1000)\n",
    "plt.ylim(0,1000)    \n",
    "plt.title('Rutter and Glover, 2012 Figure 8 Sandstone Data')\n",
    "plt.legend(loc='lower right', title='Sandstones')\n",
    "plt.savefig(\"stats_plots/Rutter_Glover_2012_Fig8.png\", dpi=300, bbox_inches='tight')\n",
    "plt.show()"
   ]
  },
  {
   "cell_type": "code",
   "execution_count": null,
   "id": "beef2851",
   "metadata": {},
   "outputs": [],
   "source": [
    "# OLS Regression\n",
    "X = rut_glov_fig8['p_mpa']\n",
    "y = rut_glov_fig8['q_mpa']\n",
    "X = sm.add_constant(X)  # Adds a constant term to the predictor\n",
    "model = sm.OLS(y, X).fit()\n",
    "print(f\"OLS Regression Results for Rutter and Glover Figure 8 Sandstone Data \\n\")\n",
    "print(model.summary())"
   ]
  },
  {
   "cell_type": "code",
   "execution_count": null,
   "id": "2d087715",
   "metadata": {},
   "outputs": [],
   "source": [
    "# Create a regression plot for the friction data\n",
    "plt.figure(figsize=(10, 6))\n",
    "sns.scatterplot(data=friction_data, x='p_mpa', y='q_mpa')\n",
    "sns.regplot(data=friction_data, x='p_mpa', y='q_mpa', scatter=False, \n",
    "            color='black', ci=None, label='Regression Line', \n",
    "            line_kws={'linewidth': 1.0, 'linestyle': '--'})\n",
    "plt.xlim(0, 700)\n",
    "plt.ylim(0, 700)\n",
    "plt.xlabel('P (MPa)', fontsize=10)\n",
    "plt.ylabel('Q (MPa)', fontsize=10)\n",
    "plt.title('Regression Plot for Rutter and Glover 2012 Figure 8 Friction Data')\n",
    "plt.savefig(\"stats_plots/Rutter_Glover_2012_Fig8_FrictionData.png\", dpi=300, bbox_inches='tight')\n",
    "plt.show()"
   ]
  },
  {
   "cell_type": "code",
   "execution_count": null,
   "id": "286ae666",
   "metadata": {},
   "outputs": [],
   "source": [
    "# OLS for friction data\n",
    "friction_X = friction_data['p_mpa']\n",
    "friction_y = friction_data['q_mpa']\n",
    "friction_X = sm.add_constant(friction_X)  # Adds a constant term to the predictor\n",
    "friction_model = sm.OLS(friction_y, friction_X).fit()\n",
    "print(f\"OLS Regression Results for Rutter and Glover 2012 Friction Data \\n\")\n",
    "print(friction_model.summary())"
   ]
  },
  {
   "cell_type": "markdown",
   "id": "6a5e10e1",
   "metadata": {},
   "source": [
    "## Include Wong & Baud, 2012. Figures 5a,b and 6a,b (Limestones)"
   ]
  },
  {
   "cell_type": "code",
   "execution_count": null,
   "id": "c89d32a4",
   "metadata": {},
   "outputs": [],
   "source": [
    "# Wong and Baud Data\n",
    "wong_baud = df_all_data[df_all_data['doi'] == '10.1016/j.jsg.2012.07.010']\n",
    "\n",
    "# Combine (Wong and Baud) sandstone data with (Rutter and Glover) sandstone data\n",
    "wong_baud_fig5 = wong_baud[wong_baud['figure_number'].isin(['5a', '5b'])]\n",
    "\n",
    "rutter_glover_wong_baud = pd.concat([rut_glov_fig8, wong_baud_fig5], ignore_index=True)\n",
    "\n",
    "# Wong and Baud Limestone Data\n",
    "wong_baud_limestone = wong_baud[wong_baud['figure_number'].isin(['6a', '6b'])]"
   ]
  },
  {
   "cell_type": "code",
   "execution_count": null,
   "id": "2639b1fb",
   "metadata": {},
   "outputs": [],
   "source": [
    "# Create a regression plot for new data including Wong and Baud, 2012 data\n",
    "\n",
    "# Sort the sandstone names for consistent ordering\n",
    "sandstones = sorted(rutter_glover_wong_baud['sandstone_name'].unique())\n",
    "n_groups = len(sandstones)\n",
    "\n",
    "# Pairing colors and markers\n",
    "colors = sns.color_palette(\"colorblind\", n_colors=min(n_groups, 8))\n",
    "markers = ['o', 's', 'D', '^', 'v', 'P', 'X', '<', '>'] \n",
    "\n",
    "fig, ax = plt.subplots(figsize=(10, 6))\n",
    "\n",
    "# Plot each group separately\n",
    "for i, name in enumerate(sandstones):\n",
    "    group = rutter_glover_wong_baud[rutter_glover_wong_baud['sandstone_name'] == name]\n",
    "    ax.scatter(\n",
    "        group['p_mpa'], group['q_mpa'],\n",
    "        label=name,\n",
    "        color=colors[i % len(colors)],\n",
    "        marker=markers[i % len(markers)],\n",
    "        edgecolor='black',\n",
    "        linewidth=0.4,\n",
    "        s=40,\n",
    "        alpha=0.8\n",
    "    )\n",
    "\n",
    "# Regression line\n",
    "sns.regplot(\n",
    "    data=rutter_glover_wong_baud, x='p_mpa', y='q_mpa',\n",
    "    scatter=False, ci=None,\n",
    "    line_kws={'color': 'black', 'linewidth': 1.0, 'linestyle': '--'},\n",
    "    ax=ax\n",
    ")\n",
    "\n",
    "ax.set_xlabel('P (MPa)', fontsize=10)\n",
    "ax.set_ylabel('Q (MPa)', fontsize=10)\n",
    "ax.set_xlim(0, 1000)\n",
    "ax.set_ylim(0, 1000)\n",
    "\n",
    "# Legend\n",
    "ax.legend(\n",
    "    bbox_to_anchor=(1.02, 1), loc='upper left',\n",
    "    fontsize=7, title='Sandstones',\n",
    "    title_fontsize=8, frameon=False, ncol=1\n",
    ")\n",
    "\n",
    "plt.title('Regression: Rutter & Glover (2012) Fig 8 + Wong & Baud (2012) Fig 5a,5b', fontsize=11, pad=15)\n",
    "plt.tight_layout()\n",
    "plt.savefig(\"stats_plots/RutterGlover, 2012_Fig8 & WongBaud_2012 Fig5a,b.png\", dpi=300, bbox_inches='tight')\n",
    "plt.show()\n"
   ]
  },
  {
   "cell_type": "code",
   "execution_count": null,
   "id": "bcf10a39",
   "metadata": {},
   "outputs": [],
   "source": [
    "# OLS Regression for new_df\n",
    "X_new = rutter_glover_wong_baud['p_mpa']\n",
    "y_new = rutter_glover_wong_baud['q_mpa']\n",
    "X_new = sm.add_constant(X_new)  # Adds a constant term to the predictor\n",
    "model_new = sm.OLS(y_new, X_new).fit()\n",
    "print(model_new.summary())\n"
   ]
  },
  {
   "cell_type": "code",
   "execution_count": null,
   "id": "17d401d7",
   "metadata": {},
   "outputs": [],
   "source": [
    "# Create a regression plot for limestones\n",
    "plt.figure(figsize=(10, 6))\n",
    "sns.scatterplot(data=wong_baud_limestone, x='p_mpa', y='q_mpa', hue='sandstone_name')\n",
    "sns.regplot(data=wong_baud_limestone, x='p_mpa', y='q_mpa', scatter=False, \n",
    "            ci=None, line_kws={'color': 'black', 'linewidth': 1.0, 'linestyle': '--'})\n",
    "plt.xlim(0, 500)\n",
    "plt.ylim(0, 500)\n",
    "plt.xlabel('P (MPa)')\n",
    "plt.ylabel('Q (MPa)')\n",
    "plt.legend(loc='lower right', title='Limestones')\n",
    "plt.title('Regression Plot for Limestones - Wong & Baud 2012 Figure 6a,6b')\n",
    "plt.savefig(\"stats_plots/Limestones WongBaud_2012 Fig6a,b.png\", dpi=300, bbox_inches='tight')\n",
    "plt.show()"
   ]
  },
  {
   "cell_type": "code",
   "execution_count": null,
   "id": "fc0696ee",
   "metadata": {},
   "outputs": [],
   "source": [
    "# OLS Regression for limestones\n",
    "X_limestone = wong_baud_limestone['p_mpa']\n",
    "y_limestone = wong_baud_limestone['q_mpa']\n",
    "X_limestone = sm.add_constant(X_limestone)  # Adds a constant term to the\n",
    "model_limestone = sm.OLS(y_limestone, X_limestone).fit()\n",
    "print(f\" Wong & Baud Fig 6a,b \\n{model_limestone.summary()}\")"
   ]
  },
  {
   "cell_type": "markdown",
   "id": "af7579ac",
   "metadata": {},
   "source": [
    "## Limestone Friction Data - Byerlee, 1978. Figure 4"
   ]
  },
  {
   "cell_type": "code",
   "execution_count": null,
   "id": "62da1ca1",
   "metadata": {},
   "outputs": [],
   "source": [
    "# filter for limestone friction data\n",
    "limestone_friction_data = df_all_data[df_all_data['doi'] == '10.1007/BF00876528']"
   ]
  },
  {
   "cell_type": "code",
   "execution_count": null,
   "id": "46b08f82",
   "metadata": {},
   "outputs": [],
   "source": [
    "# Create a regression plot for the friction data\n",
    "plt.figure(figsize=(10, 6))\n",
    "sns.scatterplot(data=limestone_friction_data, x='p_mpa', y='q_mpa')\n",
    "sns.regplot(data=limestone_friction_data, x='p_mpa', y='q_mpa', scatter=False, \n",
    "            color='black', ci=None, label='Regression Line', \n",
    "            line_kws={'linewidth': 1.0, 'linestyle': '--'})\n",
    "plt.xlim(0, 150)\n",
    "plt.ylim(0, 50)\n",
    "plt.xlabel('P (MPa)', fontsize=10)\n",
    "plt.ylabel('Q (MPa)', fontsize=10)\n",
    "plt.title('Regression Plot for Byerlee, 1978 Figure 4 Limestone Friction Data')\n",
    "plt.savefig(\"stats_plots/Byerlee_1978_Fig4_FrictionData.png\", dpi=300, bbox_inches='tight')\n",
    "plt.show()\n",
    "\n",
    "# OLS for friction data\n",
    "friction_X = limestone_friction_data['p_mpa']\n",
    "friction_y = limestone_friction_data['q_mpa']\n",
    "friction_X = sm.add_constant(friction_X)  # Adds a constant term to the predictor\n",
    "friction_model = sm.OLS(friction_y, friction_X).fit()\n",
    "print(f\"OLS Regression Results for Byerlee, 1978 Figure 4 Limestone Friction Data \\n\")\n",
    "print(friction_model.summary())"
   ]
  },
  {
   "cell_type": "code",
   "execution_count": null,
   "id": "6a87d97e",
   "metadata": {},
   "outputs": [],
   "source": [
    "residuals = friction_model.resid\n",
    "mse_manual = (residuals**2).mean()\n",
    "\n",
    "print(f\"Mean Squared Error (manual): {mse_manual}\")\n"
   ]
  },
  {
   "cell_type": "markdown",
   "id": "02b15a10",
   "metadata": {},
   "source": [
    "## Extract Porosity of the Sandstones"
   ]
  },
  {
   "cell_type": "code",
   "execution_count": null,
   "id": "c558c899",
   "metadata": {},
   "outputs": [],
   "source": [
    "# Extract Porosity of the Sandstones\n",
    "def extract_porosity(s):\n",
    "    \"\"\"\n",
    "    Extracts the porosity percentage from a string formatted like \"(x%)\"\n",
    "    \"\"\"\n",
    "    matches = re.findall(r\"\\(([^)]+%)\\)\")\n",
    "    if matches:\n",
    "        return matches[0]\n",
    "    else:\n",
    "        return None"
   ]
  },
  {
   "cell_type": "code",
   "execution_count": null,
   "id": "47caf7ba",
   "metadata": {},
   "outputs": [],
   "source": [
    "# Extract Porosity of the Sandstones\n",
    "def extract_porosity(s):\n",
    "    matches = re.findall(r\"\\(([^)]+%)\\)\", s)\n",
    "    if matches:\n",
    "        return matches[0]\n",
    "    else:\n",
    "        return None\n",
    "    \n",
    "# Add a new column for porosity\n",
    "\n",
    "rutter_glover_wong_baud['porosity'] = rutter_glover_wong_baud['sandstone_name'].apply(extract_porosity)\n",
    "\n",
    "# Choose porosity as 18 for Berea wet\n",
    "new_df_18 = rutter_glover_wong_baud.copy()\n",
    "new_df_18.loc[new_df_18['porosity'] == '18 & 21%', 'porosity'] = '18%'\n",
    "\n",
    "# Choose porosity as 21 for Berea wet\n",
    "new_df_21 = rutter_glover_wong_baud.copy()\n",
    "new_df_21.loc[new_df_21['porosity'] == '18 & 21%', 'porosity'] = '21%'\n",
    "\n",
    "# Remove the percentage sign and convert to float\n",
    "new_df_18['porosity'] = new_df_18['porosity'].str.replace('%', '').astype(float)\n",
    "new_df_21['porosity'] = new_df_21['porosity'].str.replace('%', '').astype(float)"
   ]
  },
  {
   "cell_type": "code",
   "execution_count": null,
   "id": "323955a2",
   "metadata": {},
   "outputs": [],
   "source": [
    "# Range of porosity values\n",
    "print(\"Range of porosity values using Berea wet 18:\")\n",
    "print(new_df_18['porosity'].describe().round(2))\n",
    "\n",
    "print(\"\\nRange of porosity values using Berea wet 21:\")\n",
    "print(new_df_21['porosity'].describe().round(2))"
   ]
  },
  {
   "cell_type": "markdown",
   "id": "f7e163cd",
   "metadata": {},
   "source": [
    "# Different Porosoity Plots"
   ]
  },
  {
   "cell_type": "code",
   "execution_count": null,
   "id": "33081144",
   "metadata": {},
   "outputs": [],
   "source": [
    "# Split data based on median porosity\n",
    "\n",
    "median_porosity = new_df_18['porosity'].median()\n",
    "\n",
    "# Dataframes for porosity below and above median\n",
    "below_median = new_df_18[new_df_18['porosity'] < median_porosity]\n",
    "above_median = new_df_18[new_df_18['porosity'] >= median_porosity]"
   ]
  },
  {
   "cell_type": "code",
   "execution_count": null,
   "id": "ef890f88",
   "metadata": {},
   "outputs": [],
   "source": [
    "# Sort the sandstone names for consistent ordering\n",
    "sandstones_below = sorted(below_median['sandstone_name'].unique())\n",
    "n_groups = len(sandstones_below)\n",
    "\n",
    "# Pairing colors and markers\n",
    "colors = sns.color_palette(\"colorblind\", n_colors=min(n_groups, 5))\n",
    "markers = ['o', 's', 'D', '^', 'v', 'P', 'X', '<', '>'] \n",
    "\n",
    "fig, ax = plt.subplots(figsize=(10, 6))\n",
    "for i, name in enumerate(sandstones_below):\n",
    "    group = below_median[below_median['sandstone_name'] == name]\n",
    "    ax.scatter(\n",
    "        group['p_mpa'], group['q_mpa'],\n",
    "        label=name,\n",
    "        color=colors[i % len(colors)],\n",
    "        marker=markers[i % len(markers)],\n",
    "        edgecolor='black',\n",
    "        linewidth=0.4,\n",
    "        s=40,\n",
    "        alpha=0.8\n",
    "    )\n",
    "sns.regplot(\n",
    "    data=below_median, x='p_mpa', y='q_mpa',\n",
    "    scatter=False, ci=None,\n",
    "    line_kws={'color': 'black', 'linewidth': 1.0, 'linestyle': '--'},\n",
    "    ax=ax\n",
    ")\n",
    "ax.set_xlabel('P (MPa)', fontsize=10)\n",
    "ax.set_ylabel('Q (MPa)', fontsize=10)\n",
    "ax.set_xlim(0, 1000)\n",
    "ax.set_ylim(0, 1000)\n",
    "\n",
    "# Legend\n",
    "ax.legend(\n",
    "    bbox_to_anchor=(1.02, 1), loc='upper left',\n",
    "    fontsize=7, title='Sandstones',\n",
    "    title_fontsize=8, frameon=False, ncol=1\n",
    ")\n",
    "\n",
    "plt.title(f'Regression: Sandstones with porosity less than median value:{median_porosity}%', fontsize=11, pad=15)\n",
    "plt.tight_layout()\n",
    "plt.savefig(\"stats_plots/porosity less than 22.8.png\", dpi=300, bbox_inches='tight')\n",
    "plt.show()"
   ]
  },
  {
   "cell_type": "code",
   "execution_count": null,
   "id": "d83b6fdd",
   "metadata": {},
   "outputs": [],
   "source": [
    "# OLS Regression for below median porosity\n",
    "X_below = below_median['p_mpa']\n",
    "y_below = below_median['q_mpa']\n",
    "X_below = sm.add_constant(X_below)  # Adds a constant term to the predictor\n",
    "model_below = sm.OLS(y_below, X_below).fit()\n",
    "print(f\"Regression Stats for Sandstones less than 22.8: \\n{model_below.summary()}\")"
   ]
  },
  {
   "cell_type": "code",
   "execution_count": null,
   "id": "4832c29d",
   "metadata": {},
   "outputs": [],
   "source": [
    "# Sort the sandstone names for consistent ordering\n",
    "sandstones_above = sorted(above_median['sandstone_name'].unique())\n",
    "n_groups = len(sandstones_above)\n",
    "\n",
    "# Pairing colors and markers\n",
    "colors = sns.color_palette(\"colorblind\", n_colors=min(n_groups, 5))\n",
    "markers = ['o', 's', 'D', '^', 'v', 'P', 'X', '<', '>'] \n",
    "\n",
    "fig, ax = plt.subplots(figsize=(10, 6))\n",
    "for i, name in enumerate(sandstones_above):\n",
    "    group = above_median[above_median['sandstone_name'] == name]\n",
    "    ax.scatter(\n",
    "        group['p_mpa'], group['q_mpa'],\n",
    "        label=name,\n",
    "        color=colors[i % len(colors)],\n",
    "        marker=markers[i % len(markers)],\n",
    "        edgecolor='black',\n",
    "        linewidth=0.4,\n",
    "        s=40,\n",
    "        alpha=0.8\n",
    "    )\n",
    "sns.regplot(\n",
    "    data=above_median, x='p_mpa', y='q_mpa',\n",
    "    scatter=False, ci=None,\n",
    "    line_kws={'color': 'black', 'linewidth': 1.0, 'linestyle': '--'},\n",
    "    ax=ax\n",
    ")\n",
    "ax.set_xlabel('P (MPa)', fontsize=10)\n",
    "ax.set_ylabel('Q (MPa)', fontsize=10)\n",
    "ax.set_xlim(0, 1000)\n",
    "ax.set_ylim(0, 1000)\n",
    "\n",
    "# Legend\n",
    "ax.legend(\n",
    "    bbox_to_anchor=(1.02, 1), loc='upper left',\n",
    "    fontsize=7, title='Sandstones',\n",
    "    title_fontsize=8, frameon=False, ncol=1\n",
    ")\n",
    "\n",
    "plt.title(f'Regression: Sandstones with porosity higher than median value:{median_porosity}%', fontsize=11, pad=15)\n",
    "plt.tight_layout()\n",
    "plt.savefig(\"stats_plots/porosity more than 22.8.png\", dpi=300, bbox_inches='tight')\n",
    "plt.show()\n",
    "\n"
   ]
  },
  {
   "cell_type": "code",
   "execution_count": null,
   "id": "f81e6946",
   "metadata": {},
   "outputs": [],
   "source": [
    "# OLS Regression for above median porosity\n",
    "X_above = above_median['p_mpa']\n",
    "y_above = above_median['q_mpa']\n",
    "X_above = sm.add_constant(X_above)  # Adds a constant term to the predictor\n",
    "model_above = sm.OLS(y_above, X_above).fit()\n",
    "print(f\"Regression Stats for Sandstones higher than 22.8: \\n{model_above.summary()}\")"
   ]
  },
  {
   "cell_type": "code",
   "execution_count": null,
   "id": "efc3a153",
   "metadata": {},
   "outputs": [],
   "source": []
  }
 ],
 "metadata": {
  "kernelspec": {
   "display_name": "env",
   "language": "python",
   "name": "python3"
  },
  "language_info": {
   "codemirror_mode": {
    "name": "ipython",
    "version": 3
   },
   "file_extension": ".py",
   "mimetype": "text/x-python",
   "name": "python",
   "nbconvert_exporter": "python",
   "pygments_lexer": "ipython3",
   "version": "3.10.16"
  }
 },
 "nbformat": 4,
 "nbformat_minor": 5
}
